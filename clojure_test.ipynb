{
 "cells": [
  {
   "cell_type": "markdown",
   "metadata": {},
   "source": [
    "## install\n",
    "install clojure, leiningen, clohupyter ...\n",
    "\n",
    "see: https://github.com/clojupyter/clojupyter#installation"
   ]
  },
  {
   "cell_type": "code",
   "execution_count": 4,
   "metadata": {},
   "outputs": [
    {
     "name": "stdout",
     "output_type": "stream",
     "text": [
      "Jupyter with clojure kernel works!\n"
     ]
    }
   ],
   "source": [
    "; works? \n",
    "(println \"Jupyter with clojure kernel works!\")"
   ]
  },
  {
   "cell_type": "markdown",
   "metadata": {},
   "source": [
    "## add deps with leiningen\n",
    "```\n",
    "$ lein repl\n",
    "    > ...\n",
    "    > (clojure-version)\n",
    "    => \"1.8.0\"\n",
    "    ...\n",
    "        \n",
    "$ lein deps :tree\n",
    "    => Couldn't find project.clj, which is needed for deps\n",
    "\n",
    "$ cat project.clj \n",
    "(defproject clojure-getting-started \"1.0.0-SNAPSHOT\"\n",
    "  :dependencies [[org.clojure/clojure \"1.8.0\"]\n",
    "                [net.colourcoding/arianna \"0.2.1\"]])\n",
    "\n",
    "$ lein deps :tree\n",
    "Retrieving net/colourcoding/arianna/0.2.1/arianna-0.2.1.pom from clojars\n",
    "...\n",
    "\n",
    "```"
   ]
  },
  {
   "cell_type": "markdown",
   "metadata": {},
   "source": [
    "## add deps inside clojupyter\n",
    "pomegranate is the tool here..\n",
    "from: http://louistiao.me/posts/notebooks/embedding-matplotlib-animations-in-jupyter-as-interactive-javascript-widgets/\n",
    "\n",
    "```\n",
    "(do\n",
    "(use '[cemerick.pomegranate :only (add-dependencies)])\n",
    "(add-dependencies :coordinates '[[latte \"0.4.1-SNAPSHOT\"]])\n",
    "(require '(latte)))\n",
    "```\n",
    "... no sukkes\n",
    "\n",
    "from the example: https://github.com/clojupyter/clojupyter/blob/master/examples/incanter-demo.ipynb\n"
   ]
  },
  {
   "cell_type": "code",
   "execution_count": 15,
   "metadata": {},
   "outputs": [
    {
     "name": "stdout",
     "output_type": "stream",
     "text": [
      "UnknownHostException repo1.maven.org: Temporary failure in name resolution  java.net.Inet6AddressImpl.lookupAllHostAddr (Inet6AddressImpl.java:-2)\n"
     ]
    },
    {
     "ename": "class org.eclipse.aether.resolution.DependencyResolutionException",
     "evalue": "",
     "output_type": "error",
     "traceback": [
      "                   Inet6AddressImpl.java:    -2 java.net.Inet6AddressImpl/lookupAllHostAddr                                       ",
      "                        InetAddress.java:   925 java.net.InetAddress$PlatformNameService/lookupAllHostAddr                        ",
      "                        InetAddress.java:  1505 java.net.InetAddress/getAddressesFromNameService                                  ",
      "                        InetAddress.java:   844 java.net.InetAddress$NameServiceAddresses/get                                     ",
      "                        InetAddress.java:  1495 java.net.InetAddress/getAllByName0                                                ",
      "                        InetAddress.java:  1354 java.net.InetAddress/getAllByName                                                 ",
      "           SystemDefaultDnsResolver.java:    45 org.apache.http.impl.conn.SystemDefaultDnsResolver/resolve                        ",
      "DefaultHttpClientConnectionOperator.java:   112 org.apache.http.impl.conn.DefaultHttpClientConnectionOperator/connect             ",
      " PoolingHttpClientConnectionManager.java:   359 org.apache.http.impl.conn.PoolingHttpClientConnectionManager/connect              ",
      "                     MainClientExec.java:   381 org.apache.http.impl.execchain.MainClientExec/establishRoute                      ",
      "                     MainClientExec.java:   237 org.apache.http.impl.execchain.MainClientExec/execute                             ",
      "                       ProtocolExec.java:   185 org.apache.http.impl.execchain.ProtocolExec/execute                               ",
      "                          RetryExec.java:    89 org.apache.http.impl.execchain.RetryExec/execute                                  ",
      "                       RedirectExec.java:   111 org.apache.http.impl.execchain.RedirectExec/execute                               ",
      "                 InternalHttpClient.java:   185 org.apache.http.impl.client.InternalHttpClient/doExecute                          ",
      "                CloseableHttpClient.java:    83 org.apache.http.impl.client.CloseableHttpClient/execute                           ",
      "            AbstractHttpClientWagon.java:   834 org.apache.maven.wagon.providers.http.AbstractHttpClientWagon/execute             ",
      "            AbstractHttpClientWagon.java:   985 org.apache.maven.wagon.providers.http.AbstractHttpClientWagon/fillInputData       ",
      "                        StreamWagon.java:   126 org.apache.maven.wagon.StreamWagon/getInputStream                                 ",
      "                        StreamWagon.java:    88 org.apache.maven.wagon.StreamWagon/getIfNewer                                     ",
      "                        StreamWagon.java:    61 org.apache.maven.wagon.StreamWagon/get                                            ",
      "                   WagonTransporter.java:   569 org.eclipse.aether.transport.wagon.WagonTransporter$GetTaskRunner/run             ",
      "                   WagonTransporter.java:   436 org.eclipse.aether.transport.wagon.WagonTransporter/execute                       ",
      "                   WagonTransporter.java:   413 org.eclipse.aether.transport.wagon.WagonTransporter/get                           ",
      "           BasicRepositoryConnector.java:   456 org.eclipse.aether.connector.basic.BasicRepositoryConnector$GetTaskRunner/runTask ",
      "           BasicRepositoryConnector.java:   359 org.eclipse.aether.connector.basic.BasicRepositoryConnector$TaskRunner/run        ",
      "             RunnableErrorForwarder.java:    76 org.eclipse.aether.util.concurrency.RunnableErrorForwarder$1/run                  ",
      "           BasicRepositoryConnector.java:   590 org.eclipse.aether.connector.basic.BasicRepositoryConnector$DirectExecutor/execute",
      "           BasicRepositoryConnector.java:   258 org.eclipse.aether.connector.basic.BasicRepositoryConnector/get                   ",
      "            DefaultArtifactResolver.java:   529 org.eclipse.aether.internal.impl.DefaultArtifactResolver/performDownloads         ",
      "            DefaultArtifactResolver.java:   430 org.eclipse.aether.internal.impl.DefaultArtifactResolver/resolve                  ",
      "            DefaultArtifactResolver.java:   255 org.eclipse.aether.internal.impl.DefaultArtifactResolver/resolveArtifacts         ",
      "            DefaultRepositorySystem.java:   376 org.eclipse.aether.internal.impl.DefaultRepositorySystem/resolveDependencies      ",
      "           NativeMethodAccessorImpl.java:    -2 jdk.internal.reflect.NativeMethodAccessorImpl/invoke0                             ",
      "           NativeMethodAccessorImpl.java:    62 jdk.internal.reflect.NativeMethodAccessorImpl/invoke                              ",
      "       DelegatingMethodAccessorImpl.java:    43 jdk.internal.reflect.DelegatingMethodAccessorImpl/invoke                          ",
      "                             Method.java:   564 java.lang.reflect.Method/invoke                                                   ",
      "                          Reflector.java:    93 clojure.lang.Reflector/invokeMatchingMethod                                       ",
      "                          Reflector.java:    28 clojure.lang.Reflector/invokeInstanceMethod                                       ",
      "                              aether.clj:   806 cemerick.pomegranate.aether$resolve_dependencies_STAR_/invokeStatic               ",
      "                              aether.clj:   707 cemerick.pomegranate.aether$resolve_dependencies_STAR_/doInvoke                   ",
      "                             RestFn.java:   137 clojure.lang.RestFn/applyTo                                                       ",
      "                                core.clj:   646 clojure.core$apply/invokeStatic                                                   ",
      "                                core.clj:   641 clojure.core$apply/invoke                                                         ",
      "                              aether.clj:   815 cemerick.pomegranate.aether$resolve_dependencies/invokeStatic                     ",
      "                              aether.clj:   809 cemerick.pomegranate.aether$resolve_dependencies/doInvoke                         ",
      "                             RestFn.java:   137 clojure.lang.RestFn/applyTo                                                       ",
      "                                core.clj:   646 clojure.core$apply/invokeStatic                                                   ",
      "                                core.clj:   641 clojure.core$apply/invoke                                                         ",
      "                         pomegranate.clj:    83 cemerick.pomegranate$add_dependencies/invokeStatic                                ",
      "                         pomegranate.clj:    57 cemerick.pomegranate$add_dependencies/doInvoke                                    ",
      "                             RestFn.java:   457 clojure.lang.RestFn/invoke                                                        ",
      "                              helper.clj:    19 clojupyter.misc.helper$add_dependencies/invokeStatic                              ",
      "                              helper.clj:    14 clojupyter.misc.helper$add_dependencies/doInvoke                                  ",
      "                             RestFn.java:   410 clojure.lang.RestFn/invoke                                                        ",
      "                                      []:     8 user$eval6188/invokeStatic                                                        ",
      "                                core.clj:  3105 clojure.core$eval/invokeStatic                                                    ",
      "                                core.clj:  3101 clojure.core$eval/invoke                                                          ",
      "                                main.clj:   240 clojure.main$repl$read_eval_print__7408$fn__7411/invoke                           ",
      "                                main.clj:   258 clojure.main$repl$fn__7417/invoke                                                 ",
      "                                main.clj:   174 clojure.main$repl/doInvoke                                                        ",
      "                             RestFn.java:  1523 clojure.lang.RestFn/invoke                                                        ",
      "                                AFn.java:   152 clojure.lang.AFn/applyToHelper                                                    ",
      "                                AFn.java:   144 clojure.lang.AFn/applyTo                                                          ",
      "                                core.clj:   646 clojure.core$apply/invokeStatic                                                   ",
      "                                core.clj:  1881 clojure.core$with_bindings_STAR_/invokeStatic                                     ",
      "                             RestFn.java:   425 clojure.lang.RestFn/invoke                                                        ",
      "                                AFn.java:    22 clojure.lang.AFn/run                                                              ",
      "                 ThreadPoolExecutor.java:  1135 java.util.concurrent.ThreadPoolExecutor/runWorker                                 ",
      "                 ThreadPoolExecutor.java:   635 java.util.concurrent.ThreadPoolExecutor$Worker/run                                ",
      "                             Thread.java:   844 java.lang.Thread/run                                                              "
     ]
    }
   ],
   "source": [
    "(require '[clojupyter.misc.helper :as helper])\n",
    "\n",
    "; (require '[clojupyter.misc.display :as display])\n",
    "\n",
    ";(helper/add-dependencies '[incanter \"1.5.7\"])\n",
    "; (helper/add-dependencies '[org.clojure/math.numeric-tower \"0.0.4\"])\n",
    "\n",
    "(helper/add-dependencies '[net.colourcoding/arianna \"0.2.1\"] )\n",
    "\n",
    ";(require '[clojure.core.reducers :as r])\n",
    ";(use '(incanter core stats charts io))\n",
    "\n",
    ";(println \"done\")"
   ]
  },
  {
   "cell_type": "code",
   "execution_count": 15,
   "metadata": {},
   "outputs": [
    {
     "name": "stdout",
     "output_type": "stream",
     "text": [
      "ArtifactNotFoundException Could not find artifact latte:latte:jar:0.4.1-SNAPSHOT in central (https://repo1.maven.org/maven2/)  org.eclipse.aether.connector.basic.ArtifactTransportListener.transferFailed (ArtifactTransportListener.java:48)\n"
     ]
    },
    {
     "ename": "class org.eclipse.aether.resolution.DependencyResolutionException",
     "evalue": "",
     "output_type": "error",
     "traceback": [
      "   ArtifactTransportListener.java:    48 org.eclipse.aether.connector.basic.ArtifactTransportListener/transferFailed       ",
      "    BasicRepositoryConnector.java:   364 org.eclipse.aether.connector.basic.BasicRepositoryConnector$TaskRunner/run        ",
      "      RunnableErrorForwarder.java:    76 org.eclipse.aether.util.concurrency.RunnableErrorForwarder$1/run                  ",
      "    BasicRepositoryConnector.java:   590 org.eclipse.aether.connector.basic.BasicRepositoryConnector$DirectExecutor/execute",
      "    BasicRepositoryConnector.java:   258 org.eclipse.aether.connector.basic.BasicRepositoryConnector/get                   ",
      "     DefaultArtifactResolver.java:   529 org.eclipse.aether.internal.impl.DefaultArtifactResolver/performDownloads         ",
      "     DefaultArtifactResolver.java:   430 org.eclipse.aether.internal.impl.DefaultArtifactResolver/resolve                  ",
      "     DefaultArtifactResolver.java:   255 org.eclipse.aether.internal.impl.DefaultArtifactResolver/resolveArtifacts         ",
      "     DefaultRepositorySystem.java:   376 org.eclipse.aether.internal.impl.DefaultRepositorySystem/resolveDependencies      ",
      "    NativeMethodAccessorImpl.java:    -2 jdk.internal.reflect.NativeMethodAccessorImpl/invoke0                             ",
      "    NativeMethodAccessorImpl.java:    62 jdk.internal.reflect.NativeMethodAccessorImpl/invoke                              ",
      "DelegatingMethodAccessorImpl.java:    43 jdk.internal.reflect.DelegatingMethodAccessorImpl/invoke                          ",
      "                      Method.java:   564 java.lang.reflect.Method/invoke                                                   ",
      "                   Reflector.java:    93 clojure.lang.Reflector/invokeMatchingMethod                                       ",
      "                   Reflector.java:    28 clojure.lang.Reflector/invokeInstanceMethod                                       ",
      "                       aether.clj:   806 cemerick.pomegranate.aether$resolve_dependencies_STAR_/invokeStatic               ",
      "                       aether.clj:   707 cemerick.pomegranate.aether$resolve_dependencies_STAR_/doInvoke                   ",
      "                      RestFn.java:   137 clojure.lang.RestFn/applyTo                                                       ",
      "                         core.clj:   646 clojure.core$apply/invokeStatic                                                   ",
      "                         core.clj:   641 clojure.core$apply/invoke                                                         ",
      "                       aether.clj:   815 cemerick.pomegranate.aether$resolve_dependencies/invokeStatic                     ",
      "                       aether.clj:   809 cemerick.pomegranate.aether$resolve_dependencies/doInvoke                         ",
      "                      RestFn.java:   137 clojure.lang.RestFn/applyTo                                                       ",
      "                         core.clj:   646 clojure.core$apply/invokeStatic                                                   ",
      "                         core.clj:   641 clojure.core$apply/invoke                                                         ",
      "                  pomegranate.clj:    83 cemerick.pomegranate$add_dependencies/invokeStatic                                ",
      "                  pomegranate.clj:    57 cemerick.pomegranate$add_dependencies/doInvoke                                    ",
      "                      RestFn.java:   421 clojure.lang.RestFn/invoke                                                        ",
      "                               []:     3 user$eval5683/invokeStatic                                                        ",
      "                         core.clj:  3105 clojure.core$eval/invokeStatic                                                    ",
      "                         core.clj:  3101 clojure.core$eval/invoke                                                          ",
      "                         main.clj:   240 clojure.main$repl$read_eval_print__7408$fn__7411/invoke                           ",
      "                         main.clj:   258 clojure.main$repl$fn__7417/invoke                                                 ",
      "                         main.clj:   174 clojure.main$repl/doInvoke                                                        ",
      "                      RestFn.java:  1523 clojure.lang.RestFn/invoke                                                        ",
      "                         AFn.java:   152 clojure.lang.AFn/applyToHelper                                                    ",
      "                         AFn.java:   144 clojure.lang.AFn/applyTo                                                          ",
      "                         core.clj:   646 clojure.core$apply/invokeStatic                                                   ",
      "                         core.clj:  1881 clojure.core$with_bindings_STAR_/invokeStatic                                     ",
      "                      RestFn.java:   425 clojure.lang.RestFn/invoke                                                        ",
      "                         AFn.java:    22 clojure.lang.AFn/run                                                              ",
      "          ThreadPoolExecutor.java:  1135 java.util.concurrent.ThreadPoolExecutor/runWorker                                 ",
      "          ThreadPoolExecutor.java:   635 java.util.concurrent.ThreadPoolExecutor$Worker/run                                ",
      "                      Thread.java:   844 java.lang.Thread/run                                                              "
     ]
    }
   ],
   "source": [
    "(do\n",
    "(use '[cemerick.pomegranate :only (add-dependencies)])\n",
    "(add-dependencies :coordinates '[[latte \"0.4.1-SNAPSHOT\"]])\n",
    "(require '(latte)))\n",
    "\n"
   ]
  },
  {
   "cell_type": "code",
   "execution_count": 9,
   "metadata": {},
   "outputs": [
    {
     "data": {
      "text/plain": [
       "12"
      ]
     },
     "execution_count": 9,
     "metadata": {},
     "output_type": "execute_result"
    }
   ],
   "source": [
    "(defn add_two [n]\n",
    "    (+ 2 n))\n",
    "\n",
    "(add_two 10)"
   ]
  },
  {
   "cell_type": "code",
   "execution_count": 14,
   "metadata": {},
   "outputs": [
    {
     "name": "stdout",
     "output_type": "stream",
     "text": [
      "FileNotFoundException Could not locate arianna__init.class or arianna.clj on classpath.  clojure.lang.RT.load (RT.java:456)\n"
     ]
    },
    {
     "ename": "class java.io.FileNotFoundException",
     "evalue": "",
     "output_type": "error",
     "traceback": [
      "                RT.java:   456 clojure.lang.RT/load                                   ",
      "               core.clj:  5893 clojure.core$load$fn__5677/invoke                      ",
      "               core.clj:  5892 clojure.core$load/invokeStatic                         ",
      "               core.clj:  5876 clojure.core$load/doInvoke                             ",
      "            RestFn.java:   408 clojure.lang.RestFn/invoke                             ",
      "               core.clj:  5697 clojure.core$load_one/invokeStatic                     ",
      "               core.clj:  5692 clojure.core$load_one/invoke                           ",
      "               core.clj:  5737 clojure.core$load_lib$fn__5626/invoke                  ",
      "               core.clj:  5736 clojure.core$load_lib/invokeStatic                     ",
      "               core.clj:  5717 clojure.core$load_lib/doInvoke                         ",
      "            RestFn.java:   142 clojure.lang.RestFn/applyTo                            ",
      "               core.clj:   648 clojure.core$apply/invokeStatic                        ",
      "               core.clj:  5774 clojure.core$load_libs/invokeStatic                    ",
      "               core.clj:  5758 clojure.core$load_libs/doInvoke                        ",
      "            RestFn.java:   137 clojure.lang.RestFn/applyTo                            ",
      "               core.clj:   648 clojure.core$apply/invokeStatic                        ",
      "               core.clj:  5796 clojure.core$require/invokeStatic                      ",
      "            RestFn.java:   408 clojure.lang.RestFn/invoke                             ",
      "                     []:     1 user$eval5358/invokeStatic                             ",
      "               core.clj:  3105 clojure.core$eval/invokeStatic                         ",
      "               core.clj:  3101 clojure.core$eval/invoke                               ",
      "               main.clj:   240 clojure.main$repl$read_eval_print__7408$fn__7411/invoke",
      "               main.clj:   258 clojure.main$repl$fn__7417/invoke                      ",
      "               main.clj:   174 clojure.main$repl/doInvoke                             ",
      "            RestFn.java:  1523 clojure.lang.RestFn/invoke                             ",
      "               AFn.java:   152 clojure.lang.AFn/applyToHelper                         ",
      "               AFn.java:   144 clojure.lang.AFn/applyTo                               ",
      "               core.clj:   646 clojure.core$apply/invokeStatic                        ",
      "               core.clj:  1881 clojure.core$with_bindings_STAR_/invokeStatic          ",
      "            RestFn.java:   425 clojure.lang.RestFn/invoke                             ",
      "               AFn.java:    22 clojure.lang.AFn/run                                   ",
      "ThreadPoolExecutor.java:  1135 java.util.concurrent.ThreadPoolExecutor/runWorker      ",
      "ThreadPoolExecutor.java:   635 java.util.concurrent.ThreadPoolExecutor$Worker/run     ",
      "            Thread.java:   844 java.lang.Thread/run                                   "
     ]
    }
   ],
   "source": [
    "(require '[arianna :as v])\n",
    "\n",
    "; ensure paramters will be ...\n",
    "(defn function_with_paramter_validation [n]\n",
    "    ;(validator/validate n :integer #(> % 1))\n",
    "  \n",
    "    (* 24 n)\n",
    "    )"
   ]
  },
  {
   "cell_type": "code",
   "execution_count": null,
   "metadata": {},
   "outputs": [],
   "source": []
  }
 ],
 "metadata": {
  "kernelspec": {
   "display_name": "Clojure",
   "language": "clojure",
   "name": "clojure"
  },
  "language_info": {
   "file_extension": ".clj",
   "mimetype": "text/x-clojure",
   "name": "clojure",
   "version": "1.8.0"
  }
 },
 "nbformat": 4,
 "nbformat_minor": 2
}
